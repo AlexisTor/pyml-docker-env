{
 "cells": [
  {
   "cell_type": "code",
   "execution_count": 4,
   "id": "a0ec0b18-efd3-46ae-95f4-e2b53a43b40b",
   "metadata": {},
   "outputs": [
    {
     "name": "stdout",
     "output_type": "stream",
     "text": [
      "\n",
      "System:\n",
      "    python: 3.11.7 (main, Dec 15 2023, 18:04:41) [GCC 11.2.0]\n",
      "executable: /opt/conda/bin/python\n",
      "   machine: Linux-6.6.12-linuxkit-aarch64-with-glibc2.31\n",
      "\n",
      "Python dependencies:\n",
      "      sklearn: 1.4.1.post1\n",
      "          pip: 23.3.1\n",
      "   setuptools: 68.2.2\n",
      "        numpy: 1.26.4\n",
      "        scipy: 1.12.0\n",
      "       Cython: None\n",
      "       pandas: 2.2.1\n",
      "   matplotlib: 3.8.3\n",
      "       joblib: 1.3.2\n",
      "threadpoolctl: 3.3.0\n",
      "\n",
      "Built with OpenMP: True\n",
      "\n",
      "threadpoolctl info:\n",
      "       user_api: openmp\n",
      "   internal_api: openmp\n",
      "    num_threads: 10\n",
      "         prefix: libgomp\n",
      "       filepath: /opt/conda/lib/python3.11/site-packages/scikit_learn.libs/libgomp-d22c30c5.so.1.0.0\n",
      "        version: None\n",
      "\n",
      "       user_api: blas\n",
      "   internal_api: openblas\n",
      "    num_threads: 10\n",
      "         prefix: libopenblas\n",
      "       filepath: /opt/conda/lib/python3.11/site-packages/numpy.libs/libopenblas64_p-r0-17488984.3.23.dev.so\n",
      "        version: 0.3.23.dev\n",
      "threading_layer: pthreads\n",
      "   architecture: armv8\n",
      "\n",
      "       user_api: blas\n",
      "   internal_api: openblas\n",
      "    num_threads: 10\n",
      "         prefix: libopenblas\n",
      "       filepath: /opt/conda/lib/python3.11/site-packages/scipy.libs/libopenblasp-r0-953c10af.3.21.dev.so\n",
      "        version: 0.3.21.dev\n",
      "threading_layer: pthreads\n",
      "   architecture: armv8\n"
     ]
    }
   ],
   "source": [
    "import sklearn\n",
    "sklearn.show_versions()"
   ]
  },
  {
   "cell_type": "code",
   "execution_count": null,
   "id": "c18b4727-0c85-407f-865f-a149e14bcf75",
   "metadata": {},
   "outputs": [],
   "source": []
  }
 ],
 "metadata": {
  "kernelspec": {
   "display_name": "Python 3 (ipykernel)",
   "language": "python",
   "name": "python3"
  },
  "language_info": {
   "codemirror_mode": {
    "name": "ipython",
    "version": 3
   },
   "file_extension": ".py",
   "mimetype": "text/x-python",
   "name": "python",
   "nbconvert_exporter": "python",
   "pygments_lexer": "ipython3",
   "version": "3.12.2"
  }
 },
 "nbformat": 4,
 "nbformat_minor": 5
}
