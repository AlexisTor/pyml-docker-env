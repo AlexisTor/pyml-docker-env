{
 "cells": [
  {
   "cell_type": "code",
   "execution_count": 1,
   "id": "e92d5592-43d5-4560-88c2-2f563b49d8ad",
   "metadata": {},
   "outputs": [
    {
     "name": "stdout",
     "output_type": "stream",
     "text": [
      "(178, 13)\n"
     ]
    },
    {
     "ename": "AttributeError",
     "evalue": "'numpy.ndarray' object has no attribute 'head'",
     "output_type": "error",
     "traceback": [
      "\u001b[0;31m---------------------------------------------------------------------------\u001b[0m",
      "\u001b[0;31mAttributeError\u001b[0m                            Traceback (most recent call last)",
      "Cell \u001b[0;32mIn[1], line 13\u001b[0m\n\u001b[1;32m     10\u001b[0m originalData \u001b[38;5;241m=\u001b[39m load_wine()\u001b[38;5;241m.\u001b[39mdata\n\u001b[1;32m     12\u001b[0m \u001b[38;5;28mprint\u001b[39m(originalData\u001b[38;5;241m.\u001b[39mshape)\n\u001b[0;32m---> 13\u001b[0m \u001b[38;5;28mprint\u001b[39m(originalData\u001b[38;5;241m.\u001b[39mhead())\n",
      "\u001b[0;31mAttributeError\u001b[0m: 'numpy.ndarray' object has no attribute 'head'"
     ]
    }
   ],
   "source": [
    "import numpy as np\n",
    "import pandas as pd\n",
    "import sklearn.model_selection\n",
    "from sklearn import preprocessing\n",
    "from sklearn.datasets import load_wine\n",
    "\n",
    "# carga del dataload orginal de Wine recognition dataset\n",
    "etiquetas=load_wine().target\n",
    "#print(etiquetas)\n",
    "originalData = pd.DataFrame(load_wine().data)\n",
    "\n",
    "print(originalData.shape)\n",
    "X=originalData.iloc\n"
   ]
  }
 ],
 "metadata": {
  "kernelspec": {
   "display_name": "Python 3 (ipykernel)",
   "language": "python",
   "name": "python3"
  },
  "language_info": {
   "codemirror_mode": {
    "name": "ipython",
    "version": 3
   },
   "file_extension": ".py",
   "mimetype": "text/x-python",
   "name": "python",
   "nbconvert_exporter": "python",
   "pygments_lexer": "ipython3",
   "version": "3.12.2"
  }
 },
 "nbformat": 4,
 "nbformat_minor": 5
}
