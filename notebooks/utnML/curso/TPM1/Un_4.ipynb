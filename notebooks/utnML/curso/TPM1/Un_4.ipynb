{
 "cells": [
  {
   "cell_type": "markdown",
   "metadata": {
    "id": "-XdPEVjnKver"
   },
   "source": [
    "1 Aprendizaje supervisado\n",
    "=="
   ]
  },
  {
   "cell_type": "markdown",
   "metadata": {
    "id": "nO_yO1h9Kvev"
   },
   "source": [
    "PASO 1: Regresión Líneal\n",
    "=="
   ]
  },
  {
   "cell_type": "markdown",
   "metadata": {
    "id": "H6I_QDSeKvew"
   },
   "source": [
    "El método de regresión lineal consiste en identificar con precisión una línea que sea capaz de representar la distribución de puntos en un plano bidimensional. Dada la siguiente ecuación de la recta:\n",
    "y=  (y_2-y_1)/(x_2-x_1 )*(x-x_1 )+y_(1 =)  (y_2-y_1)/(x_2-x_1 )*x+(y_(1 )-(y_2-y_1)/(x_2-x_1 )*x_1 )\n",
    "\n",
    "y=α*x+β"
   ]
  },
  {
   "cell_type": "code",
   "execution_count": 33,
   "metadata": {
    "id": "zB8NIJlnKvex"
   },
   "outputs": [],
   "source": [
    "import pandas as pd\n",
    "import numpy as np\n",
    "locPath=!pwd\n",
    "locPath=locPath[0]"
   ]
  },
  {
   "cell_type": "code",
   "execution_count": 34,
   "metadata": {
    "id": "WR3NAvVPK_Fr"
   },
   "outputs": [],
   "source": [
    "fileName=locPath+'/datos1_entrenamiento.csv'\n",
    "dat_csv  = pd.read_csv(fileName, encoding = \"ISO-8859-1\")"
   ]
  },
  {
   "cell_type": "code",
   "execution_count": 35,
   "metadata": {
    "colab": {
     "base_uri": "https://localhost:8080/",
     "height": 206
    },
    "id": "U9a5GYtb7nU_",
    "outputId": "94795877-37f8-41ef-b2f7-8771aff2651e"
   },
   "outputs": [
    {
     "data": {
      "text/html": [
       "<div>\n",
       "<style scoped>\n",
       "    .dataframe tbody tr th:only-of-type {\n",
       "        vertical-align: middle;\n",
       "    }\n",
       "\n",
       "    .dataframe tbody tr th {\n",
       "        vertical-align: top;\n",
       "    }\n",
       "\n",
       "    .dataframe thead th {\n",
       "        text-align: right;\n",
       "    }\n",
       "</style>\n",
       "<table border=\"1\" class=\"dataframe\">\n",
       "  <thead>\n",
       "    <tr style=\"text-align: right;\">\n",
       "      <th></th>\n",
       "      <th>x</th>\n",
       "      <th>y</th>\n",
       "    </tr>\n",
       "  </thead>\n",
       "  <tbody>\n",
       "    <tr>\n",
       "      <th>0</th>\n",
       "      <td>8.3829</td>\n",
       "      <td>11.8860</td>\n",
       "    </tr>\n",
       "    <tr>\n",
       "      <th>1</th>\n",
       "      <td>5.7292</td>\n",
       "      <td>0.4795</td>\n",
       "    </tr>\n",
       "    <tr>\n",
       "      <th>2</th>\n",
       "      <td>5.0546</td>\n",
       "      <td>3.8166</td>\n",
       "    </tr>\n",
       "    <tr>\n",
       "      <th>3</th>\n",
       "      <td>5.2524</td>\n",
       "      <td>-1.2200</td>\n",
       "    </tr>\n",
       "    <tr>\n",
       "      <th>4</th>\n",
       "      <td>5.0594</td>\n",
       "      <td>2.8214</td>\n",
       "    </tr>\n",
       "  </tbody>\n",
       "</table>\n",
       "</div>"
      ],
      "text/plain": [
       "        x        y\n",
       "0  8.3829  11.8860\n",
       "1  5.7292   0.4795\n",
       "2  5.0546   3.8166\n",
       "3  5.2524  -1.2200\n",
       "4  5.0594   2.8214"
      ]
     },
     "execution_count": 35,
     "metadata": {},
     "output_type": "execute_result"
    }
   ],
   "source": [
    "dat_csv.head()"
   ]
  },
  {
   "cell_type": "code",
   "execution_count": 36,
   "metadata": {
    "colab": {
     "base_uri": "https://localhost:8080/"
    },
    "id": "s_djtpojK9kq",
    "outputId": "e1f4e176-c338-475b-996c-ac744d413fbe"
   },
   "outputs": [
    {
     "name": "stdout",
     "output_type": "stream",
     "text": [
      "[8.3829, 5.7292, 5.0546, 5.2524, 5.0594, 11.708, 22.203, 18.945, 5.4069, 6.3261, 5.6397, 6.1101, 5.5416, 7.0708, 8.2111, 5.5649, 10.957, 8.0959, 8.4084, 6.5159, 6.4296, 5.8707, 5.6407, 9.7687, 13.394, 5.5277, 5.8918, 18.959, 7.5386, 5.4994, 7.9334, 6.3589, 5.7077, 5.1884, 10.136, 5.7107, 7.5402, 6.8825, 5.1793, 6.0062, 7.8247, 7.6366, 6.3654, 5.8014, 12.828, 7.2259, 5.7737, 5.6063, 10.236, 7.2182, 6.5894, 6.002, 6.3328, 20.341, 5.1301, 9.1802, 6.3534, 9.4536, 5.5204, 6.3557, 5.3794, 5.8598, 5.0269, 14.164, 8.5172, 7.6031, 5.3054, 8.5186, 5.734, 9.3102, 5.4369, 10.274, 21.279, 7.3345, 20.27, 6.4862, 9.2482]\n",
      "[11.886, 0.4795, 3.8166, -1.22, 2.8214, 5.3854, 24.147, 22.638, 0.5566, 5.1875, 4.6042, 17.592, 1.0179, 5.3893, 6.5426, 3.0825, 7.0467, 4.1164, 7.2258, 5.3436, 3.6518, 7.2029, 0.7162, 7.5435, 9.0551, 9.1302, 1.8495, 17.054, 3.8845, 1.0173, 4.5623, -1.4211, 1.8451, 0.2042, 6.6799, 3.2522, 6.7504, 3.9115, -0.7428, 1.2784, 6.7318, 4.2959, 5.3048, 1.844, 13.501, 3.3411, 2.4406, 3.3928, 7.7754, 4.8852, 5.9966, 0.927, 1.4233, 20.992, 0.5608, 6.7981, 5.4974, 5.4141, 0.152, 0.6786, 3.5129, 6.8233, -2.6807, 15.505, 4.2415, 4.9981, 1.9869, 13.662, 3.1551, 3.9624, 0.6171, 6.7526, 17.929, 4.0259, 21.767, 6.5987, 12.134]\n"
     ]
    }
   ],
   "source": [
    "datos_x = dat_csv.x\n",
    "datos_y = dat_csv.y\n",
    "x = []\n",
    "y = []\n",
    "for i in dat_csv.x:\n",
    "    x.append(i)\n",
    "for j in dat_csv.y:\n",
    "    y.append(j)\n",
    "print(x)\n",
    "print(y)\n",
    "\n",
    "X = np.array(x)\n",
    "Y = np.array(y)"
   ]
  },
  {
   "cell_type": "code",
   "execution_count": 37,
   "metadata": {
    "colab": {
     "base_uri": "https://localhost:8080/",
     "height": 431
    },
    "id": "2kr4L0NUKvez",
    "outputId": "eb58848c-6ef1-4cc7-f97d-71f75801e2a0"
   },
   "outputs": [
    {
     "data": {
      "image/png": "[encoded data removed]",
      "text/plain": [
       "<Figure size 640x480 with 1 Axes>"
      ]
     },
     "metadata": {},
     "output_type": "display_data"
    }
   ],
   "source": [
    "import matplotlib.pyplot as plt\n",
    "plt.figure()\n",
    "plt.scatter(X,Y)\n",
    "plt.show()"
   ]
  },
  {
   "cell_type": "markdown",
   "metadata": {
    "id": "sWaOcJuwKvez"
   },
   "source": [
    "PASO 2: Creamos datos de entrenamiento\n",
    "=="
   ]
  },
  {
   "cell_type": "code",
   "execution_count": 38,
   "metadata": {
    "colab": {
     "base_uri": "https://localhost:8080/"
    },
    "id": "WwfnhGy-Kvez",
    "outputId": "dc6fddb1-fb67-4779-c1d2-3942cd82f633"
   },
   "outputs": [
    {
     "name": "stdout",
     "output_type": "stream",
     "text": [
      "61\n",
      "16\n"
     ]
    }
   ],
   "source": [
    "datos_entrenamiento = int(0.8 * len(X))\n",
    "print(datos_entrenamiento)\n",
    "datos_prueba = len(X) - datos_entrenamiento\n",
    "print(datos_prueba)"
   ]
  },
  {
   "cell_type": "code",
   "execution_count": null,
   "metadata": {
    "colab": {
     "base_uri": "https://localhost:8080/"
    },
    "id": "kh-p4atz8xG6",
    "outputId": "9d42d682-46a2-42cc-b309-3f3d1867b1d7"
   },
   "outputs": [],
   "source": [
    "X[:datos_entrenamiento].shape"
   ]
  },
  {
   "cell_type": "code",
   "execution_count": 39,
   "metadata": {
    "colab": {
     "base_uri": "https://localhost:8080/"
    },
    "id": "S1u-siP6Kve0",
    "outputId": "bc4f6ebe-3dc3-4b19-e637-8c84fb451670"
   },
   "outputs": [
    {
     "name": "stdout",
     "output_type": "stream",
     "text": [
      "[[ 8.3829]\n",
      " [ 5.7292]\n",
      " [ 5.0546]\n",
      " [ 5.2524]\n",
      " [ 5.0594]\n",
      " [11.708 ]\n",
      " [22.203 ]\n",
      " [18.945 ]\n",
      " [ 5.4069]\n",
      " [ 6.3261]\n",
      " [ 5.6397]\n",
      " [ 6.1101]\n",
      " [ 5.5416]\n",
      " [ 7.0708]\n",
      " [ 8.2111]\n",
      " [ 5.5649]\n",
      " [10.957 ]\n",
      " [ 8.0959]\n",
      " [ 8.4084]\n",
      " [ 6.5159]\n",
      " [ 6.4296]\n",
      " [ 5.8707]\n",
      " [ 5.6407]\n",
      " [ 9.7687]\n",
      " [13.394 ]\n",
      " [ 5.5277]\n",
      " [ 5.8918]\n",
      " [18.959 ]\n",
      " [ 7.5386]\n",
      " [ 5.4994]\n",
      " [ 7.9334]\n",
      " [ 6.3589]\n",
      " [ 5.7077]\n",
      " [ 5.1884]\n",
      " [10.136 ]\n",
      " [ 5.7107]\n",
      " [ 7.5402]\n",
      " [ 6.8825]\n",
      " [ 5.1793]\n",
      " [ 6.0062]\n",
      " [ 7.8247]\n",
      " [ 7.6366]\n",
      " [ 6.3654]\n",
      " [ 5.8014]\n",
      " [12.828 ]\n",
      " [ 7.2259]\n",
      " [ 5.7737]\n",
      " [ 5.6063]\n",
      " [10.236 ]\n",
      " [ 7.2182]\n",
      " [ 6.5894]\n",
      " [ 6.002 ]\n",
      " [ 6.3328]\n",
      " [20.341 ]\n",
      " [ 5.1301]\n",
      " [ 9.1802]\n",
      " [ 6.3534]\n",
      " [ 9.4536]\n",
      " [ 5.5204]\n",
      " [ 6.3557]\n",
      " [ 5.3794]]\n",
      "[[11.886 ]\n",
      " [ 0.4795]\n",
      " [ 3.8166]\n",
      " [-1.22  ]\n",
      " [ 2.8214]\n",
      " [ 5.3854]\n",
      " [24.147 ]\n",
      " [22.638 ]\n",
      " [ 0.5566]\n",
      " [ 5.1875]\n",
      " [ 4.6042]\n",
      " [17.592 ]\n",
      " [ 1.0179]\n",
      " [ 5.3893]\n",
      " [ 6.5426]\n",
      " [ 3.0825]\n",
      " [ 7.0467]\n",
      " [ 4.1164]\n",
      " [ 7.2258]\n",
      " [ 5.3436]\n",
      " [ 3.6518]\n",
      " [ 7.2029]\n",
      " [ 0.7162]\n",
      " [ 7.5435]\n",
      " [ 9.0551]\n",
      " [ 9.1302]\n",
      " [ 1.8495]\n",
      " [17.054 ]\n",
      " [ 3.8845]\n",
      " [ 1.0173]\n",
      " [ 4.5623]\n",
      " [-1.4211]\n",
      " [ 1.8451]\n",
      " [ 0.2042]\n",
      " [ 6.6799]\n",
      " [ 3.2522]\n",
      " [ 6.7504]\n",
      " [ 3.9115]\n",
      " [-0.7428]\n",
      " [ 1.2784]\n",
      " [ 6.7318]\n",
      " [ 4.2959]\n",
      " [ 5.3048]\n",
      " [ 1.844 ]\n",
      " [13.501 ]\n",
      " [ 3.3411]\n",
      " [ 2.4406]\n",
      " [ 3.3928]\n",
      " [ 7.7754]\n",
      " [ 4.8852]\n",
      " [ 5.9966]\n",
      " [ 0.927 ]\n",
      " [ 1.4233]\n",
      " [20.992 ]\n",
      " [ 0.5608]\n",
      " [ 6.7981]\n",
      " [ 5.4974]\n",
      " [ 5.4141]\n",
      " [ 0.152 ]\n",
      " [ 0.6786]\n",
      " [ 3.5129]]\n",
      "(61, 1)\n"
     ]
    }
   ],
   "source": [
    "#ENTRENAMIENTO\n",
    "X_entrenamiento = X[:datos_entrenamiento].reshape((datos_entrenamiento,1))\n",
    "print(X_entrenamiento)\n",
    "Y_entrenamiento = Y[:datos_entrenamiento].reshape((datos_entrenamiento,1))\n",
    "print(Y_entrenamiento)\n",
    "#PRUEBA\n",
    "X_prueba = X[datos_entrenamiento:].reshape((datos_prueba,1))\n",
    "Y_prueba = Y[datos_entrenamiento:].reshape((datos_prueba,1))\n",
    "print(X_entrenamiento.shape)"
   ]
  },
  {
   "cell_type": "markdown",
   "metadata": {
    "id": "9ixvDhg3Kve0"
   },
   "source": [
    "PASO 3 - Realizamos regresión lineal.\n",
    "=="
   ]
  },
  {
   "cell_type": "code",
   "execution_count": 40,
   "metadata": {
    "colab": {
     "base_uri": "https://localhost:8080/",
     "height": 622
    },
    "id": "9YoBLZ5SKve1",
    "outputId": "34c46fcf-0a62-41d7-a239-7fd4e43ea28e"
   },
   "outputs": [
    {
     "data": {
      "text/plain": [
       "<function matplotlib.pyplot.show(close=None, block=None)>"
      ]
     },
     "execution_count": 40,
     "metadata": {},
     "output_type": "execute_result"
    },
    {
     "data": {
      "image/png": "[encoded data removed]",
      "text/plain": [
       "<Figure size 640x480 with 1 Axes>"
      ]
     },
     "metadata": {},
     "output_type": "display_data"
    }
   ],
   "source": [
    "from sklearn import linear_model\n",
    "\n",
    "# Creamos un objeto de regresión lineal\n",
    "linear_regressor = linear_model.LinearRegression()\n",
    "\n",
    "# Ajustamos la regresión a los datos de entrenamiento\n",
    "linear_regressor.fit(X_entrenamiento, Y_entrenamiento)\n",
    "\n",
    "# Y a partir de datos de regresión encontrados\n",
    "Y_predicha_de_entrenamiento = linear_regressor.predict(X_entrenamiento)\n",
    "\n",
    "import matplotlib.pyplot as plt\n",
    "\n",
    "plt.figure()\n",
    "plt.scatter(X_entrenamiento, Y_entrenamiento, color='blue')\n",
    "plt.plot(X_entrenamiento, Y_predicha_de_entrenamiento, color='black', linewidth=2)\n",
    "plt.title('Datos de entrenamiento')\n",
    "plt.show"
   ]
  },
  {
   "cell_type": "markdown",
   "metadata": {
    "id": "Gks4ODwVKve1"
   },
   "source": [
    ">Una vez que visualizamos el ajuste podemos evaluar la correspondencia de la regresión con relación a los datos de prueba."
   ]
  },
  {
   "cell_type": "code",
   "execution_count": 41,
   "metadata": {
    "colab": {
     "base_uri": "https://localhost:8080/",
     "height": 622
    },
    "id": "DP-36oD5Kve1",
    "outputId": "030d8627-46f1-46f0-bb0c-6c944bfc7ac3"
   },
   "outputs": [
    {
     "data": {
      "text/plain": [
       "<function matplotlib.pyplot.show(close=None, block=None)>"
      ]
     },
     "execution_count": 41,
     "metadata": {},
     "output_type": "execute_result"
    },
    {
     "data": {
      "image/png": "[encoded data removed]",
      "text/plain": [
       "<Figure size 640x480 with 1 Axes>"
      ]
     },
     "metadata": {},
     "output_type": "display_data"
    }
   ],
   "source": [
    "Y_predicha_de_prueba = linear_regressor.predict(X_prueba)\n",
    "plt.figure()\n",
    "plt.scatter(X_prueba, Y_prueba, color='red')\n",
    "plt.plot(X_prueba, Y_predicha_de_prueba, color='black', linewidth=2)\n",
    "plt.title('Datos de prueba')\n",
    "plt.show"
   ]
  },
  {
   "cell_type": "markdown",
   "metadata": {
    "id": "NFWPvMbXKve1"
   },
   "source": [
    "Existen varias formas de evaluar una regresión lineal, y podemos utilizar nuevamente scikit-learn  para realizar esta tarea, mediante el módulo metrics según se muestra a continuación:   \n",
    ">•\t__Error absoluto medio:__ este es el promedio de errores absolutos de todos los puntos de datos en el conjunto de datos dado.\n",
    "\n",
    ">•\t__Error cuadrático medio:__ Este es el promedio de los cuadrados de los errores de todos los puntos de datos en el conjunto de datos dado. ¡Es una de las métricas más populares que hay!\n",
    "\n",
    ">•\t__Error absoluto mediano:__ Esta es la mediana de todos los errores en el conjunto de datos dado. La principal ventaja de esta métrica es que es robusta a los valores atípicos. Un único punto negativo en el conjunto de datos de prueba no distorsionaría la métrica de error completa, en lugar de una métrica de error promedio.\n",
    "\n",
    ">•\t__Puntuación de varianza explicada:__ esta puntuación mide qué tan bien nuestro modelo puede explicar la variación en nuestro conjunto de datos. Una puntuación de 1.0 indica que nuestro modelo es perfecto.\n",
    "\n",
    ">•\t__Puntuación R2:__ Se nombra como R cuadrado, y esta puntuación se refiere al coeficiente de determinación. Esto nos dice qué tan bien serán predichas las muestras desconocidas por nuestro modelo. La mejor puntuación posible es 1.0, pero la puntuación también puede ser negativa.\n"
   ]
  },
  {
   "cell_type": "code",
   "execution_count": null,
   "metadata": {
    "colab": {
     "base_uri": "https://localhost:8080/"
    },
    "id": "EoRzkjwtKve2",
    "outputId": "cbbaefdd-b0c2-4580-8268-1d99054bcd86"
   },
   "outputs": [],
   "source": [
    "import sklearn.metrics as sm\n",
    "print(\"Error absoluto medio =\", round(sm.mean_absolute_error(Y_prueba, Y_predicha_de_prueba), 2))\n",
    "print(\"Error cuadratico medio =\", round(sm.mean_squared_error(Y_prueba, Y_predicha_de_prueba), 2))\n",
    "print(\"Error absoluto mediano =\", round(sm.median_absolute_error(Y_prueba, Y_predicha_de_prueba), 2))\n",
    "print(\"Puntuación de varianza explicada =\", round(sm.explained_variance_score(Y_prueba, Y_predicha_de_prueba), 2))\n",
    "print(\"Puntuación R2 =\", round(sm.r2_score(Y_prueba, Y_predicha_de_prueba), 2))"
   ]
  },
  {
   "cell_type": "markdown",
   "metadata": {
    "id": "Nhv6PPfAKve2"
   },
   "source": [
    "Regresión contraída\n",
    "=="
   ]
  },
  {
   "cell_type": "markdown",
   "metadata": {
    "id": "6smkO_fMKve2"
   },
   "source": [
    "Permite eliminar puntos aislados"
   ]
  },
  {
   "cell_type": "code",
   "execution_count": null,
   "metadata": {
    "colab": {
     "base_uri": "https://localhost:8080/",
     "height": 709
    },
    "id": "vjSaR8qMKve2",
    "outputId": "9534e108-4544-45a5-8c97-42a58c373a21"
   },
   "outputs": [],
   "source": [
    "from sklearn import linear_model\n",
    "regresion_ridge = linear_model.Ridge(alpha=0.01, fit_intercept=True, max_iter=10000)\n",
    "regresion_ridge.fit(X_prueba, Y_prueba)\n",
    "\n",
    "Y_predicha_de_prueba = regresion_ridge.predict(X_prueba)\n",
    "\n",
    "\n",
    "print(\"Error absoluto medio =\", round(sm.mean_absolute_error(Y_prueba, Y_predicha_de_prueba), 2))\n",
    "print(\"Error cuadratico medio =\", round(sm.mean_squared_error(Y_prueba, Y_predicha_de_prueba), 2))\n",
    "print(\"Error absoluto mediano =\", round(sm.median_absolute_error(Y_prueba, Y_predicha_de_prueba), 2))\n",
    "print(\"Puntuación de varianza explicada =\", round(sm.explained_variance_score(Y_prueba, Y_predicha_de_prueba), 2))\n",
    "print(\"Puntuación R2 =\", round(sm.r2_score(Y_prueba, Y_predicha_de_prueba), 2))\n",
    "\n",
    "plt.figure()\n",
    "plt.scatter(X_prueba, Y_prueba, color='red')\n",
    "plt.plot(X_prueba, Y_predicha_de_prueba, color='black', linewidth=2)\n",
    "plt.title('Datos de prueba')\n",
    "plt.show"
   ]
  },
  {
   "cell_type": "markdown",
   "metadata": {
    "id": "vRfNuFD6Kve2"
   },
   "source": [
    "3.Clasificación - Regresión logística.\n",
    "==\n",
    "La regresión logística (Logistic Regression), a pesar de su nombre, es un modelo lineal para la clasificación en lugar de la regresión."
   ]
  },
  {
   "cell_type": "markdown",
   "metadata": {
    "id": "6y29EoEsKve2"
   },
   "source": [
    "Paso 1\n",
    "==\n",
    "Comencemos por tomar una serie de puntos según se muestra a continuación y graficarlos como hemos aprendido a hacer hasta aquí.\n"
   ]
  },
  {
   "cell_type": "code",
   "execution_count": null,
   "metadata": {
    "colab": {
     "base_uri": "https://localhost:8080/",
     "height": 430
    },
    "id": "tiIlXQD8Kve3",
    "outputId": "13ce6e07-ace7-451e-e832-554182801cc3"
   },
   "outputs": [],
   "source": [
    "import numpy as np\n",
    "from sklearn import linear_model\n",
    "from sklearn import model_selection\n",
    "from sklearn.metrics import classification_report\n",
    "from sklearn.metrics import confusion_matrix\n",
    "from sklearn.metrics import accuracy_score\n",
    "import matplotlib.pyplot as plt\n",
    "\n",
    "X = np.array([[16,2], [3,1], [2,7], [13,4], [3,4], [12,5], [15,6], [4,6]])\n",
    "plt.figure()\n",
    "plt.scatter(X[:,0],X[:,1])\n",
    "plt.show()\n"
   ]
  },
  {
   "cell_type": "markdown",
   "metadata": {
    "id": "cZDQTrHqKve3"
   },
   "source": [
    "Paso 2\n",
    "==\n",
    "Dados los puntos de dispersión parecen existir dos grupos de datos, uno que se agrupa en torno al valor x = 3 y otro que se agrupa en torno al valor x = 14, lo que haremos es en base a esta hipótesis asignar a los valores cercanos a 3 el valor de cero y a los cercanos a catorce el valor de uno y agregaremos los valores en el mismo orden dentro del array Y.\n"
   ]
  },
  {
   "cell_type": "code",
   "execution_count": null,
   "metadata": {
    "id": "ncd4cxpJKve3"
   },
   "outputs": [],
   "source": [
    "Y = [1, 0, 0, 1, 0, 1, 1, 0]"
   ]
  },
  {
   "cell_type": "markdown",
   "metadata": {
    "id": "DH_yUpKuKve3"
   },
   "source": [
    "Paso 3\n",
    "==\n",
    "Ahora utilizaremos el objeto clasificador “LogisticRegresion” y le pasaremos los datos que deseamos clasificar de forma de crear un modelo, haciendo que se ajuste mediante el uso de (fit)  \n"
   ]
  },
  {
   "cell_type": "code",
   "execution_count": null,
   "metadata": {
    "colab": {
     "base_uri": "https://localhost:8080/",
     "height": 75
    },
    "id": "71FzptT9Kve3",
    "outputId": "fa97b6b9-8624-452d-f2e6-446b892edb4d"
   },
   "outputs": [],
   "source": [
    "clasificador = linear_model.LogisticRegression(solver='lbfgs', C=100)\n",
    "clasificador.fit(X, Y)"
   ]
  },
  {
   "cell_type": "markdown",
   "metadata": {
    "id": "BNtZBjKyKve3"
   },
   "source": [
    "Paso 4\n",
    "==\n",
    "Con la clasificación realizada, utilizaremos el método predict() de forma de predecir como el modelo predice los propios valores pasados como datos. Este es un caso muy simple en el cual la predicción retorna exactamente los mismos valores, sin embargo en otros casos más complejos el ajuste no es del 100% y el modelo debe ser ajustado a medida que conocemos más la problemática del tema tratado.\n"
   ]
  },
  {
   "cell_type": "code",
   "execution_count": null,
   "metadata": {
    "colab": {
     "base_uri": "https://localhost:8080/"
    },
    "id": "WvghBbUFKve3",
    "outputId": "06633ac0-3fb3-44be-ec28-b7d0f17f4aac"
   },
   "outputs": [],
   "source": [
    "prediccion = clasificador.predict(X)\n",
    "print(prediccion)"
   ]
  },
  {
   "cell_type": "code",
   "execution_count": null,
   "metadata": {
    "colab": {
     "base_uri": "https://localhost:8080/"
    },
    "id": "yK5lUObhKve4",
    "outputId": "d638584f-88cc-4b52-ca90-b19bfde46995"
   },
   "outputs": [],
   "source": [
    "print(clasificador.score(X,Y))"
   ]
  },
  {
   "cell_type": "code",
   "execution_count": null,
   "metadata": {
    "colab": {
     "base_uri": "https://localhost:8080/"
    },
    "id": "D-Syxoianl-u",
    "outputId": "0a163dbc-a7c5-46ef-e88d-1c1d07873c3b"
   },
   "outputs": [],
   "source": [
    "cm = confusion_matrix(Y, prediccion)\n",
    "print(cm)"
   ]
  },
  {
   "cell_type": "code",
   "execution_count": null,
   "metadata": {
    "colab": {
     "base_uri": "https://localhost:8080/",
     "height": 424
    },
    "id": "_KCrtvqHnuVM",
    "outputId": "dd0b8be0-08da-4835-e942-6819cbc6c7ff"
   },
   "outputs": [],
   "source": [
    "import seaborn as sns\n",
    "\n",
    "labels = ['0', '1']\n",
    "\n",
    "plt.figure(figsize=(4, 4))\n",
    "sns.set(font_scale=1.2)\n",
    "sns.heatmap(cm, annot=True, fmt=\"d\", cmap=\"Blues\", xticklabels=labels, yticklabels=labels)\n",
    "\n",
    "plt.xlabel('Predicted Labels')\n",
    "plt.ylabel('True Labels')\n",
    "plt.title('Confusion Matrix')\n",
    "\n",
    "plt.show()"
   ]
  },
  {
   "cell_type": "markdown",
   "metadata": {
    "id": "O-LNrco4Kve4"
   },
   "source": [
    "Paso 5\n",
    "==\n",
    "Ahora en base a otros datos recopilados podemos ver como el modelo predice al grupo al cual deberían pertenecer los datos.\n"
   ]
  },
  {
   "cell_type": "code",
   "execution_count": null,
   "metadata": {
    "colab": {
     "base_uri": "https://localhost:8080/"
    },
    "id": "pqiLL6aDKve4",
    "outputId": "0115f239-5aed-4248-c551-75bbbcab1e0b"
   },
   "outputs": [],
   "source": [
    "Xn = np.array([[6,4], [20,7], [4,17]])\n",
    "Yn = clasificador.predict(Xn)\n",
    "print(Yn)"
   ]
  },
  {
   "cell_type": "markdown",
   "metadata": {
    "id": "YACck3VtKve4"
   },
   "source": [
    "Paso 6\n",
    "==\n",
    "Siempre es mejor tratar de visualizar los datos para tener una mejor comprensión del tema, por lo que vamos a graficar los datos asignando como colores las opciones de ceros o unos de la clasificación (c=Y).\n"
   ]
  },
  {
   "cell_type": "code",
   "execution_count": null,
   "metadata": {
    "id": "PPd5B1h4Kve4"
   },
   "outputs": [],
   "source": [
    "Xs = np.concatenate((X, Xn), axis=0)\n",
    "Ys = np.append(Y , Yn)\n",
    "\n",
    "x_min, x_max = min(Xs[:, 0]) - 1.0, max(Xs[:, 0]) + 1.0\n",
    "y_min, y_max = min(Xs[:, 1]) - 1.0, max(Xs[:, 1]) + 1.0\n"
   ]
  },
  {
   "cell_type": "markdown",
   "metadata": {
    "id": "3tO6s1hoKve4"
   },
   "source": [
    "Dado ahora los puntos de los ejes x e y crearemos a partir de ellos una malla de puntos lo cual es en la practica una cuadricula rectangular creada a partir de los datos."
   ]
  },
  {
   "cell_type": "code",
   "execution_count": null,
   "metadata": {
    "id": "xdgOuClGKve4"
   },
   "outputs": [],
   "source": [
    "step_size = 0.01\n",
    "\n",
    "valor_x, valor_y = np.meshgrid(np.arange(x_min, x_max, step_size), np.arange(y_min, y_max, step_size))\n",
    "\n",
    "malla_de_puntos = clasificador.predict(np.c_[valor_x.ravel(), valor_y.ravel()])\n"
   ]
  },
  {
   "cell_type": "markdown",
   "metadata": {
    "id": "6Muhs5pgKve4"
   },
   "source": [
    "Aquí estamos utilizando el método ravel() de forma de crear una copia de los valores originales. También podríamos haber utilizado el método flatten(), la diferencia entre ambos son:\n",
    ">__ravel ():__ Retorna una referencia a la matriz original, si se modifica la matriz, el valor de la matriz original también cambia. ravel() es más rápido que flatten().\n",
    "\n",
    ">__flatten ():__ Retorna una copia de la matriz original, si sei modifica algún valor de esta matriz, el valor de la matriz original no se verá afectado.  \n",
    "\n",
    "Tambien notar que estamos utilizando np.c_, para obtener los datos por pares x, y ya que dada una matriz  nos retorna sus valores por columnas.\n"
   ]
  },
  {
   "cell_type": "markdown",
   "metadata": {
    "id": "NIOTHafAKve5"
   },
   "source": [
    "Paso 7\n",
    "==\n",
    "Creamos un mapa de color a partir de los datos anteriores mediante pcolormesh() :\n"
   ]
  },
  {
   "cell_type": "code",
   "execution_count": null,
   "metadata": {
    "colab": {
     "base_uri": "https://localhost:8080/",
     "height": 454
    },
    "id": "0u5Bl1rzKve5",
    "outputId": "76de5b39-c4c7-4e45-890a-bcec1abe012b"
   },
   "outputs": [],
   "source": [
    "malla_de_puntos = malla_de_puntos.reshape(valor_x.shape)\n",
    "plt.figure()\n",
    "plt.pcolormesh(valor_x, valor_y, malla_de_puntos, cmap=plt.cm.gray, shading='auto')\n"
   ]
  },
  {
   "cell_type": "markdown",
   "metadata": {
    "id": "Gq7qcX-fKve5"
   },
   "source": [
    "Paso 8\n",
    "==\n",
    "Finalmente podemos poner sobre un gráfico todos los puntos tanto los de entrenamiento como los de testeo y comprobar que el modelo a separado correctamente los valores:\n"
   ]
  },
  {
   "cell_type": "code",
   "execution_count": null,
   "metadata": {
    "colab": {
     "base_uri": "https://localhost:8080/",
     "height": 437
    },
    "id": "bj_3ye-7Kve5",
    "outputId": "caf66f13-6b0a-4dfc-f1b8-1326eadece0a"
   },
   "outputs": [],
   "source": [
    "malla_de_puntos = malla_de_puntos.reshape(valor_x.shape)\n",
    "plt.figure()\n",
    "plt.pcolormesh(valor_x, valor_y, malla_de_puntos, cmap=plt.cm.gray, shading='auto')\n",
    "plt.scatter(X[:, 0], X[:, 1], c=Y, s=80, edgecolors='red', linewidth=1, cmap=plt.cm.Paired)\n",
    "plt.scatter(Xn[:, 0], Xn[:, 1], c=clasificador.predict(Xn), s=180, edgecolors='blue', linewidth=2, cmap=plt.cm.Paired)\n",
    "\n",
    "plt.show()\n"
   ]
  },
  {
   "cell_type": "markdown",
   "metadata": {
    "id": "TU-LchGNKve5"
   },
   "source": [
    "EJEMPLO RESHAPE()\n",
    "=="
   ]
  },
  {
   "cell_type": "code",
   "execution_count": null,
   "metadata": {
    "id": "dx01t6TAKve-"
   },
   "outputs": [],
   "source": [
    "x = np.array([1, 5, 10])\n",
    "y = np.array([1, 4, 8])\n",
    "z = np.linspace(0, 255, 9).reshape(3, 3)\n",
    "print(z)\n",
    "plt.pcolormesh(x, y, z, cmap = \"PuRd\", shading ='auto'); #cmap = \"PuRd\");\n",
    "plt.colorbar();"
   ]
  }
 ],
 "metadata": {
  "colab": {
   "provenance": []
  },
  "kernelspec": {
   "display_name": "Python 3 (ipykernel)",
   "language": "python",
   "name": "python3"
  },
  "language_info": {
   "codemirror_mode": {
    "name": "ipython",
    "version": 3
   },
   "file_extension": ".py",
   "mimetype": "text/x-python",
   "name": "python",
   "nbconvert_exporter": "python",
   "pygments_lexer": "ipython3",
   "version": "3.12.2"
  }
 },
 "nbformat": 4,
 "nbformat_minor": 4
}
