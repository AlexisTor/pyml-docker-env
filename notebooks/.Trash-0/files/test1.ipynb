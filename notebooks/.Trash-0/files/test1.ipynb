import pandas as pd

pd1=pd.array()
